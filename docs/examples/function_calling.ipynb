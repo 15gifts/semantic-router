{
 "cells": [
  {
   "cell_type": "markdown",
   "metadata": {},
   "source": [
    "### Set up functions and routes"
   ]
  },
  {
   "cell_type": "code",
   "execution_count": 1,
   "metadata": {},
   "outputs": [],
   "source": [
    "def get_time(location: str) -> str:\n",
    "    \"\"\"Useful to get the time in a specific location\"\"\"\n",
    "    print(f\"Calling `get_time` function with location: {location}\")\n",
    "    return \"get_time\"\n",
    "\n",
    "\n",
    "def get_news(category: str, country: str) -> str:\n",
    "    \"\"\"Useful to get the news in a specific country\"\"\"\n",
    "    print(\n",
    "        f\"Calling `get_news` function with category: {category} and country: {country}\"\n",
    "    )\n",
    "    return \"get_news\""
   ]
  },
  {
   "cell_type": "markdown",
   "metadata": {},
   "source": [
    "Now generate a dynamic routing config for each function"
   ]
  },
  {
   "cell_type": "code",
   "execution_count": 2,
   "metadata": {},
   "outputs": [
    {
     "name": "stderr",
     "output_type": "stream",
     "text": [
      "/Users/jakit/customers/aurelio/semantic-router/.venv/lib/python3.11/site-packages/tqdm/auto.py:21: TqdmWarning: IProgress not found. Please update jupyter and ipywidgets. See https://ipywidgets.readthedocs.io/en/stable/user_install.html\n",
      "  from .autonotebook import tqdm as notebook_tqdm\n",
      "None of PyTorch, TensorFlow >= 2.0, or Flax have been found. Models won't be available and only tokenizers, configuration and file/data utilities can be used.\n",
      "\u001b[32m2023-12-19 12:30:53 INFO semantic_router.utils.logger Generating dynamic route...\u001b[0m\n",
      "\u001b[32m2023-12-19 12:30:58 INFO semantic_router.utils.logger Generated route config:\n",
      "{\n",
      "    \"name\": \"get_time\",\n",
      "    \"utterances\": [\n",
      "        \"What's the time in [location]?\",\n",
      "        \"Can you tell me the time in [location]?\",\n",
      "        \"I need to know the time in [location].\",\n",
      "        \"What time is it in [location]?\",\n",
      "        \"Can you give me the time in [location]?\"\n",
      "    ]\n",
      "}\u001b[0m\n",
      "\u001b[32m2023-12-19 12:30:58 INFO semantic_router.utils.logger Generating dynamic route...\u001b[0m\n",
      "\u001b[32m2023-12-19 12:31:03 INFO semantic_router.utils.logger Generated route config:\n",
      "{\n",
      "    \"name\": \"get_news\",\n",
      "    \"utterances\": [\n",
      "        \"Tell me the latest news from the US\",\n",
      "        \"What's happening in India today?\",\n",
      "        \"Get me the top stories from Japan\",\n",
      "        \"Can you give me the breaking news from Brazil?\",\n",
      "        \"What's the latest in Germany?\"\n",
      "    ]\n",
      "}\u001b[0m\n"
     ]
    }
   ],
   "source": [
    "from semantic_router import Route, RouteConfig\n",
    "\n",
    "functions = [get_time, get_news]\n",
    "routes = []\n",
    "\n",
    "for function in functions:\n",
    "    route = await Route.from_dynamic_route(entity=function)\n",
    "    routes.append(route)\n",
    "\n",
    "route_config = RouteConfig(routes=routes)"
   ]
  },
  {
   "cell_type": "code",
   "execution_count": 3,
   "metadata": {},
   "outputs": [
    {
     "name": "stderr",
     "output_type": "stream",
     "text": [
      "\u001b[32m2023-12-19 12:31:03 INFO semantic_router.utils.logger Added route `get_weather`\u001b[0m\n",
      "\u001b[32m2023-12-19 12:31:03 INFO semantic_router.utils.logger Removed route `get_time`\u001b[0m\n"
     ]
    },
    {
     "data": {
      "text/plain": [
       "[{'name': 'get_news',\n",
       "  'utterances': ['Tell me the latest news from the US',\n",
       "   \"What's happening in India today?\",\n",
       "   'Get me the top stories from Japan',\n",
       "   'Can you give me the breaking news from Brazil?',\n",
       "   \"What's the latest in Germany?\"],\n",
       "  'description': None},\n",
       " {'name': 'get_weather',\n",
       "  'utterances': ['what is the weather in SF',\n",
       "   'what is the current temperature in London?',\n",
       "   \"tomorrow's weather in Paris?\"],\n",
       "  'description': None}]"
      ]
     },
     "execution_count": 3,
     "metadata": {},
     "output_type": "execute_result"
    }
   ],
   "source": [
    "# You can manually add or remove routes\n",
    "\n",
    "get_weather_route = Route(\n",
    "    name=\"get_weather\",\n",
    "    utterances=[\n",
    "        \"what is the weather in SF\",\n",
    "        \"what is the current temperature in London?\",\n",
    "        \"tomorrow's weather in Paris?\",\n",
    "    ],\n",
    ")\n",
    "route_config.add(get_weather_route)\n",
    "\n",
    "route_config.remove(\"get_time\")\n",
    "\n",
    "route_config.to_dict()"
   ]
  },
  {
   "cell_type": "code",
   "execution_count": 4,
   "metadata": {},
   "outputs": [
    {
     "data": {
      "text/plain": [
       "Route(name='get_weather', utterances=['what is the weather in SF', 'what is the current temperature in London?', \"tomorrow's weather in Paris?\"], description=None)"
      ]
     },
     "execution_count": 4,
     "metadata": {},
     "output_type": "execute_result"
    }
   ],
   "source": [
    "# Get a route by name\n",
    "route_config.get(\"get_weather\")"
   ]
  },
  {
   "cell_type": "markdown",
   "metadata": {},
   "source": [
    "Save config to a file (.json or .yaml)"
   ]
  },
  {
   "cell_type": "code",
   "execution_count": 5,
   "metadata": {},
   "outputs": [
    {
     "name": "stderr",
     "output_type": "stream",
     "text": [
      "\u001b[32m2023-12-19 12:31:50 INFO semantic_router.utils.logger Saving route config to route_config.json\u001b[0m\n"
     ]
    }
   ],
   "source": [
    "route_config.to_file(\"route_config.json\")"
   ]
  },
  {
   "cell_type": "markdown",
   "metadata": {},
   "source": [
    "Load from local file"
   ]
  },
  {
   "cell_type": "code",
   "execution_count": 6,
   "metadata": {},
   "outputs": [
    {
     "name": "stderr",
     "output_type": "stream",
     "text": [
      "\u001b[32m2023-12-19 12:32:24 INFO semantic_router.utils.logger Loading route config from route_config.json\u001b[0m\n"
     ]
    }
   ],
   "source": [
    "route_config = RouteConfig.from_file(\"route_config.json\")"
   ]
  },
  {
   "cell_type": "markdown",
   "metadata": {},
   "source": [
    "### Define routing layer"
   ]
  },
  {
   "cell_type": "code",
   "execution_count": 7,
   "metadata": {},
   "outputs": [],
   "source": [
    "from semantic_router import RouteLayer\n",
    "\n",
    "route_layer = RouteLayer(routes=route_config.routes)"
   ]
  },
  {
   "cell_type": "code",
   "execution_count": null,
   "metadata": {},
   "outputs": [],
   "source": [
    "def validate_parameters(function, parameters):\n",
    "    sig = inspect.signature(function)\n",
    "    for name, param in sig.parameters.items():\n",
    "        if name not in parameters:\n",
    "            return False, f\"Parameter {name} missing from query\"\n",
    "        if not isinstance(parameters[name], param.annotation):\n",
    "            return False, f\"Parameter {name} is not of type {param.annotation}\"\n",
    "    return True, \"Parameters are valid\""
   ]
  },
  {
   "cell_type": "code",
   "execution_count": null,
   "metadata": {},
   "outputs": [],
   "source": [
    "def extract_parameters(query: str, function) -> dict:\n",
    "    logger.info(\"Extracting parameters...\")\n",
    "    example_query = \"How is the weather in Hawaii right now in International units?\"\n",
    "\n",
    "    example_schema = {\n",
    "        \"name\": \"get_weather\",\n",
    "        \"description\": \"Useful to get the weather in a specific location\",\n",
    "        \"signature\": \"(location: str, degree: str) -> str\",\n",
    "        \"output\": \"<class 'str'>\",\n",
    "    }\n",
    "\n",
    "    example_parameters = {\n",
    "        \"location\": \"London\",\n",
    "        \"degree\": \"Celsius\",\n",
    "    }\n",
    "\n",
    "    prompt = f\"\"\"\n",
    "    You are a helpful assistant designed to output JSON.\n",
    "    Given the following function schema\n",
    "    << {get_function_schema(function)} >>\n",
    "    and query\n",
    "    << {query} >>\n",
    "    extract the parameters values from the query, in a valid JSON format.\n",
    "    Example:\n",
    "    Input:\n",
    "    query: {example_query}\n",
    "    schema: {example_schema}\n",
    "\n",
    "    Result: {example_parameters}\n",
    "\n",
    "    Input:\n",
    "    query: {query}\n",
    "    schema: {get_function_schema(function)}\n",
    "    Result:\n",
    "    \"\"\"\n",
    "\n",
    "    try:\n",
    "        ai_message = llm_mistral(prompt)\n",
    "        ai_message = (\n",
    "            ai_message.replace(\"Output:\", \"\").replace(\"'\", '\"').strip().rstrip(\",\")\n",
    "        )\n",
    "    except Exception as e:\n",
    "        logger.error(f\"Mistral failed with error {e}, falling back to OpenAI\")\n",
    "        ai_message = llm_openai(prompt)\n",
    "\n",
    "    try:\n",
    "        parameters = json.loads(ai_message)\n",
    "        valid, message = validate_parameters(function, parameters)\n",
    "\n",
    "        if not valid:\n",
    "            logger.warning(\n",
    "                f\"Invalid parameters from Mistral, falling back to OpenAI: {message}\"\n",
    "            )\n",
    "            # Fall back to OpenAI\n",
    "            ai_message = llm_openai(prompt)\n",
    "            parameters = json.loads(ai_message)\n",
    "            valid, message = validate_parameters(function, parameters)\n",
    "            if not valid:\n",
    "                raise ValueError(message)\n",
    "\n",
    "        logger.info(f\"Extracted parameters: {parameters}\")\n",
    "        return parameters\n",
    "    except ValueError as e:\n",
    "        logger.error(f\"Parameter validation error: {str(e)}\")\n",
    "        return {\"error\": \"Failed to validate parameters\"}"
   ]
  },
  {
   "cell_type": "markdown",
   "metadata": {},
   "source": [
    "Set up calling functions"
   ]
  },
  {
   "cell_type": "code",
   "execution_count": null,
   "metadata": {},
   "outputs": [],
   "source": [
    "from typing import Callable\n",
    "from semantic_router.layer import RouteLayer\n",
    "\n",
    "\n",
    "def call_function(function: Callable, parameters: dict[str, str]):\n",
    "    try:\n",
    "        return function(**parameters)\n",
    "    except TypeError as e:\n",
    "        logger.error(f\"Error calling function: {e}\")\n",
    "\n",
    "\n",
    "def call_llm(query: str) -> str:\n",
    "    try:\n",
    "        ai_message = llm_mistral(query)\n",
    "    except Exception as e:\n",
    "        logger.error(f\"Mistral failed with error {e}, falling back to OpenAI\")\n",
    "        ai_message = llm_openai(query)\n",
    "\n",
    "    return ai_message\n",
    "\n",
    "\n",
    "def call(query: str, functions: list[Callable], router: RouteLayer):\n",
    "    function_name = router(query)\n",
    "    if not function_name:\n",
    "        logger.warning(\"No function found\")\n",
    "        return call_llm(query)\n",
    "\n",
    "    for function in functions:\n",
    "        if function.__name__ == function_name:\n",
    "            parameters = extract_parameters(query, function)\n",
    "            print(f\"parameters: {parameters}\")\n",
    "            return call_function(function, parameters)"
   ]
  },
  {
   "cell_type": "markdown",
   "metadata": {},
   "source": [
    "### Workflow"
   ]
  },
  {
   "cell_type": "markdown",
   "metadata": {},
   "source": [
    "Functions as a tool"
   ]
  },
  {
   "cell_type": "code",
   "execution_count": null,
   "metadata": {},
   "outputs": [],
   "source": []
  },
  {
   "cell_type": "code",
   "execution_count": null,
   "metadata": {},
   "outputs": [],
   "source": [
    "# Loading configuration from file\n",
    "router = RouteLayer.from_json(\"router.json\")"
   ]
  },
  {
   "cell_type": "code",
   "execution_count": null,
   "metadata": {},
   "outputs": [],
   "source": [
    "tools = [get_time, get_news]\n",
    "\n",
    "call(query=\"What is the time in Stockholm?\", functions=tools, router=router)\n",
    "call(query=\"What is the tech news in the Lithuania?\", functions=tools, router=router)\n",
    "call(query=\"Hi!\", functions=tools, router=router)"
   ]
  },
  {
   "cell_type": "code",
   "execution_count": null,
   "metadata": {},
   "outputs": [],
   "source": []
  }
 ],
 "metadata": {
  "kernelspec": {
   "display_name": ".venv",
   "language": "python",
   "name": "python3"
  },
  "language_info": {
   "codemirror_mode": {
    "name": "ipython",
    "version": 3
   },
   "file_extension": ".py",
   "mimetype": "text/x-python",
   "name": "python",
   "nbconvert_exporter": "python",
   "pygments_lexer": "ipython3",
   "version": "3.11.3"
  }
 },
 "nbformat": 4,
 "nbformat_minor": 2
}
