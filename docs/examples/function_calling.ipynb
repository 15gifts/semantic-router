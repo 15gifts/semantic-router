{
 "cells": [
  {
   "cell_type": "markdown",
   "metadata": {},
   "source": [
    "### Set up functions and routes"
   ]
  },
  {
   "cell_type": "code",
   "execution_count": 1,
   "metadata": {},
   "outputs": [],
   "source": [
    "def get_time(location: str) -> str:\n",
    "    \"\"\"Useful to get the time in a specific location\"\"\"\n",
    "    print(f\"Calling `get_time` function with location: {location}\")\n",
    "    return \"get_time\"\n",
    "\n",
    "\n",
    "def get_news(category: str, country: str) -> str:\n",
    "    \"\"\"Useful to get the news in a specific country\"\"\"\n",
    "    print(\n",
    "        f\"Calling `get_news` function with category: {category} and country: {country}\"\n",
    "    )\n",
    "    return \"get_news\""
   ]
  },
  {
   "cell_type": "markdown",
   "metadata": {},
   "source": [
    "Now generate a dynamic routing config for each function"
   ]
  },
  {
   "cell_type": "code",
   "execution_count": 2,
   "metadata": {},
   "outputs": [
    {
     "name": "stderr",
     "output_type": "stream",
     "text": [
      "/Users/jakit/customers/aurelio/semantic-router/.venv/lib/python3.11/site-packages/tqdm/auto.py:21: TqdmWarning: IProgress not found. Please update jupyter and ipywidgets. See https://ipywidgets.readthedocs.io/en/stable/user_install.html\n",
      "  from .autonotebook import tqdm as notebook_tqdm\n",
      "None of PyTorch, TensorFlow >= 2.0, or Flax have been found. Models won't be available and only tokenizers, configuration and file/data utilities can be used.\n",
      "\u001b[32m2023-12-19 16:06:38 INFO semantic_router.utils.logger Generating dynamic route...\u001b[0m\n",
      "\u001b[32m2023-12-19 16:06:44 INFO semantic_router.utils.logger Generated route config:\n",
      "{\n",
      "    \"name\": \"get_time\",\n",
      "    \"utterances\": [\n",
      "        \"What's the time in [location]?\",\n",
      "        \"Can you tell me the time in [location]?\",\n",
      "        \"I need to know the time in [location].\",\n",
      "        \"What time is it in [location]?\",\n",
      "        \"Can you give me the time in [location]?\"\n",
      "    ]\n",
      "}\u001b[0m\n",
      "\u001b[32m2023-12-19 16:06:44 INFO semantic_router.utils.logger Generating dynamic route...\u001b[0m\n",
      "\u001b[32m2023-12-19 16:06:50 INFO semantic_router.utils.logger Generated route config:\n",
      "{\n",
      "    \"name\": \"get_news\",\n",
      "    \"utterances\": [\n",
      "        \"Tell me the latest news from the US\",\n",
      "        \"What's happening in India today?\",\n",
      "        \"Get me the top stories from Japan\",\n",
      "        \"Can you give me the breaking news from Brazil?\",\n",
      "        \"What's the latest in Germany?\"\n",
      "    ]\n",
      "}\u001b[0m\n"
     ]
    }
   ],
   "source": [
    "from semantic_router.route import Route, RouteConfig\n",
    "\n",
    "functions = [get_time, get_news]\n",
    "routes = []\n",
    "\n",
    "for function in functions:\n",
    "    route = await Route.from_dynamic_route(entity=function)\n",
    "    routes.append(route)\n",
    "\n",
    "route_config = RouteConfig(routes=routes)"
   ]
  },
  {
   "cell_type": "code",
   "execution_count": 4,
   "metadata": {},
   "outputs": [
    {
     "name": "stderr",
     "output_type": "stream",
     "text": [
      "\u001b[32m2023-12-19 16:07:10 INFO semantic_router.utils.logger Added route `get_weather`\u001b[0m\n",
      "\u001b[32m2023-12-19 16:07:10 INFO semantic_router.utils.logger Removed route `get_weather`\u001b[0m\n"
     ]
    },
    {
     "data": {
      "text/plain": [
       "[{'name': 'get_time',\n",
       "  'utterances': [\"What's the time in [location]?\",\n",
       "   'Can you tell me the time in [location]?',\n",
       "   'I need to know the time in [location].',\n",
       "   'What time is it in [location]?',\n",
       "   'Can you give me the time in [location]?'],\n",
       "  'description': None},\n",
       " {'name': 'get_news',\n",
       "  'utterances': ['Tell me the latest news from the US',\n",
       "   \"What's happening in India today?\",\n",
       "   'Get me the top stories from Japan',\n",
       "   'Can you give me the breaking news from Brazil?',\n",
       "   \"What's the latest in Germany?\"],\n",
       "  'description': None}]"
      ]
     },
     "execution_count": 4,
     "metadata": {},
     "output_type": "execute_result"
    }
   ],
   "source": [
    "# You can manually add or remove routes\n",
    "\n",
    "get_weather_route = Route(\n",
    "    name=\"get_weather\",\n",
    "    utterances=[\n",
    "        \"what is the weather in SF\",\n",
    "        \"what is the current temperature in London?\",\n",
    "        \"tomorrow's weather in Paris?\",\n",
    "    ],\n",
    ")\n",
    "route_config.add(get_weather_route)\n",
    "\n",
    "route_config.remove(\"get_weather\")\n",
    "\n",
    "route_config.to_dict()"
   ]
  },
  {
   "cell_type": "code",
   "execution_count": 5,
   "metadata": {},
   "outputs": [
    {
     "data": {
      "text/plain": [
       "Route(name='get_time', utterances=[\"What's the time in [location]?\", 'Can you tell me the time in [location]?', 'I need to know the time in [location].', 'What time is it in [location]?', 'Can you give me the time in [location]?'], description=None)"
      ]
     },
     "execution_count": 5,
     "metadata": {},
     "output_type": "execute_result"
    }
   ],
   "source": [
    "# Get a route by name\n",
    "route_config.get(\"get_time\")"
   ]
  },
  {
   "cell_type": "markdown",
   "metadata": {},
   "source": [
    "Save config to a file (.json or .yaml)"
   ]
  },
  {
   "cell_type": "code",
   "execution_count": 5,
   "metadata": {},
   "outputs": [
    {
     "name": "stderr",
     "output_type": "stream",
     "text": [
      "\u001b[32m2023-12-19 16:04:24 INFO semantic_router.utils.logger Saving route config to route_config.json\u001b[0m\n"
     ]
    }
   ],
   "source": [
    "route_config.to_file(\"route_config.json\")"
   ]
  },
  {
   "cell_type": "markdown",
   "metadata": {},
   "source": [
    "Load from local file"
   ]
  },
  {
   "cell_type": "code",
   "execution_count": 6,
   "metadata": {},
   "outputs": [
    {
     "name": "stderr",
     "output_type": "stream",
     "text": [
      "\u001b[32m2023-12-19 16:07:16 INFO semantic_router.utils.logger Loading route config from route_config.json\u001b[0m\n"
     ]
    }
   ],
   "source": [
    "route_config = RouteConfig.from_file(\"route_config.json\")"
   ]
  },
  {
   "cell_type": "markdown",
   "metadata": {},
   "source": [
    "### Define routing layer"
   ]
  },
  {
   "cell_type": "code",
   "execution_count": 8,
   "metadata": {},
   "outputs": [],
   "source": [
    "from semantic_router import RouteLayer\n",
    "\n",
    "route_layer = RouteLayer(routes=route_config.routes)"
   ]
  },
  {
   "cell_type": "markdown",
   "metadata": {},
   "source": [
    "Do a function call with functions as tool"
   ]
  },
  {
   "cell_type": "code",
   "execution_count": 9,
   "metadata": {},
   "outputs": [
    {
     "name": "stderr",
     "output_type": "stream",
     "text": [
      "\u001b[32m2023-12-19 16:07:25 INFO semantic_router.utils.logger Extracting function input...\u001b[0m\n"
     ]
    },
    {
     "name": "stdout",
     "output_type": "stream",
     "text": [
      "Calling function: get_time\n"
     ]
    },
    {
     "name": "stderr",
     "output_type": "stream",
     "text": [
      "\u001b[31m2023-12-19 16:07:27 ERROR semantic_router.utils.logger Input name missing from query\u001b[0m\n"
     ]
    },
    {
     "name": "stdout",
     "output_type": "stream",
     "text": [
      "Inputs: {'location': 'Stockholm'}\n",
      "Schema: {'name': 'get_time', 'description': 'Useful to get the time in a specific location', 'signature': '(location: str) -> str', 'output': \"<class 'str'>\"}\n"
     ]
    },
    {
     "ename": "ValueError",
     "evalue": "Invalid inputs",
     "output_type": "error",
     "traceback": [
      "\u001b[0;31m---------------------------------------------------------------------------\u001b[0m",
      "\u001b[0;31mValueError\u001b[0m                                Traceback (most recent call last)",
      "\u001b[1;32m/Users/jakit/customers/aurelio/semantic-router/docs/examples/function_calling.ipynb Cell 14\u001b[0m line \u001b[0;36m5\n\u001b[1;32m      <a href='vscode-notebook-cell:/Users/jakit/customers/aurelio/semantic-router/docs/examples/function_calling.ipynb#Y115sZmlsZQ%3D%3D?line=0'>1</a>\u001b[0m \u001b[39mfrom\u001b[39;00m \u001b[39msemantic_router\u001b[39;00m\u001b[39m.\u001b[39;00m\u001b[39mutils\u001b[39;00m\u001b[39m.\u001b[39;00m\u001b[39mfunction_call\u001b[39;00m \u001b[39mimport\u001b[39;00m route_and_execute\n\u001b[1;32m      <a href='vscode-notebook-cell:/Users/jakit/customers/aurelio/semantic-router/docs/examples/function_calling.ipynb#Y115sZmlsZQ%3D%3D?line=2'>3</a>\u001b[0m tools \u001b[39m=\u001b[39m [get_time, get_news]\n\u001b[0;32m----> <a href='vscode-notebook-cell:/Users/jakit/customers/aurelio/semantic-router/docs/examples/function_calling.ipynb#Y115sZmlsZQ%3D%3D?line=4'>5</a>\u001b[0m \u001b[39mawait\u001b[39;00m route_and_execute(\n\u001b[1;32m      <a href='vscode-notebook-cell:/Users/jakit/customers/aurelio/semantic-router/docs/examples/function_calling.ipynb#Y115sZmlsZQ%3D%3D?line=5'>6</a>\u001b[0m     query\u001b[39m=\u001b[39m\u001b[39m\"\u001b[39m\u001b[39mWhat is the time in Stockholm?\u001b[39m\u001b[39m\"\u001b[39m, functions\u001b[39m=\u001b[39mtools, route_layer\u001b[39m=\u001b[39mroute_layer\n\u001b[1;32m      <a href='vscode-notebook-cell:/Users/jakit/customers/aurelio/semantic-router/docs/examples/function_calling.ipynb#Y115sZmlsZQ%3D%3D?line=6'>7</a>\u001b[0m )\n\u001b[1;32m      <a href='vscode-notebook-cell:/Users/jakit/customers/aurelio/semantic-router/docs/examples/function_calling.ipynb#Y115sZmlsZQ%3D%3D?line=7'>8</a>\u001b[0m \u001b[39mawait\u001b[39;00m route_and_execute(\n\u001b[1;32m      <a href='vscode-notebook-cell:/Users/jakit/customers/aurelio/semantic-router/docs/examples/function_calling.ipynb#Y115sZmlsZQ%3D%3D?line=8'>9</a>\u001b[0m     query\u001b[39m=\u001b[39m\u001b[39m\"\u001b[39m\u001b[39mWhat is the tech news in the Lithuania?\u001b[39m\u001b[39m\"\u001b[39m,\n\u001b[1;32m     <a href='vscode-notebook-cell:/Users/jakit/customers/aurelio/semantic-router/docs/examples/function_calling.ipynb#Y115sZmlsZQ%3D%3D?line=9'>10</a>\u001b[0m     functions\u001b[39m=\u001b[39mtools,\n\u001b[1;32m     <a href='vscode-notebook-cell:/Users/jakit/customers/aurelio/semantic-router/docs/examples/function_calling.ipynb#Y115sZmlsZQ%3D%3D?line=10'>11</a>\u001b[0m     route_layer\u001b[39m=\u001b[39mroute_layer,\n\u001b[1;32m     <a href='vscode-notebook-cell:/Users/jakit/customers/aurelio/semantic-router/docs/examples/function_calling.ipynb#Y115sZmlsZQ%3D%3D?line=11'>12</a>\u001b[0m )\n\u001b[1;32m     <a href='vscode-notebook-cell:/Users/jakit/customers/aurelio/semantic-router/docs/examples/function_calling.ipynb#Y115sZmlsZQ%3D%3D?line=12'>13</a>\u001b[0m \u001b[39mawait\u001b[39;00m route_and_execute(query\u001b[39m=\u001b[39m\u001b[39m\"\u001b[39m\u001b[39mHi!\u001b[39m\u001b[39m\"\u001b[39m, functions\u001b[39m=\u001b[39mtools, route_layer\u001b[39m=\u001b[39mroute_layer)\n",
      "File \u001b[0;32m~/customers/aurelio/semantic-router/semantic_router/utils/function_call.py:125\u001b[0m, in \u001b[0;36mroute_and_execute\u001b[0;34m(query, functions, route_layer)\u001b[0m\n\u001b[1;32m    123\u001b[0m \u001b[39mprint\u001b[39m(\u001b[39mf\u001b[39m\u001b[39m\"\u001b[39m\u001b[39mCalling function: \u001b[39m\u001b[39m{\u001b[39;00mfunction\u001b[39m.\u001b[39m\u001b[39m__name__\u001b[39m\u001b[39m}\u001b[39;00m\u001b[39m\"\u001b[39m)\n\u001b[1;32m    124\u001b[0m schema \u001b[39m=\u001b[39m get_schema(function)\n\u001b[0;32m--> 125\u001b[0m inputs \u001b[39m=\u001b[39m \u001b[39mawait\u001b[39;00m extract_function_inputs(query, schema)\n\u001b[1;32m    126\u001b[0m call_function(function, inputs)\n",
      "File \u001b[0;32m~/customers/aurelio/semantic-router/semantic_router/utils/function_call.py:83\u001b[0m, in \u001b[0;36mextract_function_inputs\u001b[0;34m(query, function_schema)\u001b[0m\n\u001b[1;32m     81\u001b[0m function_inputs \u001b[39m=\u001b[39m json\u001b[39m.\u001b[39mloads(output)\n\u001b[1;32m     82\u001b[0m \u001b[39mif\u001b[39;00m \u001b[39mnot\u001b[39;00m is_valid_inputs(function_inputs, function_schema):\n\u001b[0;32m---> 83\u001b[0m     \u001b[39mraise\u001b[39;00m \u001b[39mValueError\u001b[39;00m(\u001b[39m\"\u001b[39m\u001b[39mInvalid inputs\u001b[39m\u001b[39m\"\u001b[39m)\n\u001b[1;32m     84\u001b[0m \u001b[39mreturn\u001b[39;00m function_inputs\n",
      "\u001b[0;31mValueError\u001b[0m: Invalid inputs"
     ]
    }
   ],
   "source": [
    "from semantic_router.utils.function_call import route_and_execute\n",
    "\n",
    "tools = [get_time, get_news]\n",
    "\n",
    "await route_and_execute(\n",
    "    query=\"What is the time in Stockholm?\", functions=tools, route_layer=route_layer\n",
    ")\n",
    "await route_and_execute(\n",
    "    query=\"What is the tech news in the Lithuania?\",\n",
    "    functions=tools,\n",
    "    route_layer=route_layer,\n",
    ")\n",
    "await route_and_execute(query=\"Hi!\", functions=tools, route_layer=route_layer)"
   ]
  },
  {
   "cell_type": "code",
   "execution_count": null,
   "metadata": {},
   "outputs": [],
   "source": []
  }
 ],
 "metadata": {
  "kernelspec": {
   "display_name": ".venv",
   "language": "python",
   "name": "python3"
  },
  "language_info": {
   "codemirror_mode": {
    "name": "ipython",
    "version": 3
   },
   "file_extension": ".py",
   "mimetype": "text/x-python",
   "name": "python",
   "nbconvert_exporter": "python",
   "pygments_lexer": "ipython3",
   "version": "3.11.3"
  }
 },
 "nbformat": 4,
 "nbformat_minor": 2
}
