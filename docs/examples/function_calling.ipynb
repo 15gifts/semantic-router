{
 "cells": [
  {
   "cell_type": "markdown",
   "metadata": {},
   "source": [
    "### Set up functions and routes"
   ]
  },
  {
   "cell_type": "code",
   "execution_count": 5,
   "metadata": {},
   "outputs": [],
   "source": [
    "def get_time(location: str) -> str:\n",
    "    \"\"\"Useful to get the time in a specific location\"\"\"\n",
    "    print(f\"Result from: `get_time` function with location: `{location}`\")\n",
    "    return \"get_time\"\n",
    "\n",
    "\n",
    "def get_news(category: str, country: str) -> str:\n",
    "    \"\"\"Useful to get the news in a specific country\"\"\"\n",
    "    print(\n",
    "        f\"Result from: `get_news` function with category: `{category}` \"\n",
    "        f\"and country: `{country}`\"\n",
    "    )\n",
    "    return \"get_news\""
   ]
  },
  {
   "cell_type": "markdown",
   "metadata": {},
   "source": [
    "Now generate a dynamic routing config for each function"
   ]
  },
  {
   "cell_type": "code",
   "execution_count": 6,
   "metadata": {},
   "outputs": [
    {
     "name": "stderr",
     "output_type": "stream",
     "text": [
      "\u001b[32m2023-12-19 17:46:30 INFO semantic_router.utils.logger Generating dynamic route...\u001b[0m\n",
      "\u001b[32m2023-12-19 17:46:40 INFO semantic_router.utils.logger Generated route config:\n",
      "{\n",
      "    \"name\": \"get_time\",\n",
      "    \"utterances\": [\n",
      "        \"What's the time in New York?\",\n",
      "        \"Can you tell me the time in Tokyo?\",\n",
      "        \"What's the current time in London?\",\n",
      "        \"Can you give me the time in Sydney?\",\n",
      "        \"What's the time in Paris?\"\n",
      "    ]\n",
      "}\u001b[0m\n",
      "\u001b[32m2023-12-19 17:46:40 INFO semantic_router.utils.logger Generating dynamic route...\u001b[0m\n",
      "\u001b[32m2023-12-19 17:46:43 INFO semantic_router.utils.logger Generated route config:\n",
      "{\n",
      "    \"name\": \"get_news\",\n",
      "    \"utterances\": [\n",
      "        \"Tell me the latest news from the United States\",\n",
      "        \"What's happening in India today?\",\n",
      "        \"Can you give me the top stories from Japan\",\n",
      "        \"Get me the breaking news from the UK\",\n",
      "        \"What's the latest in Germany?\"\n",
      "    ]\n",
      "}\u001b[0m\n"
     ]
    }
   ],
   "source": [
    "from semantic_router.route import Route, RouteConfig\n",
    "\n",
    "functions = [get_time, get_news]\n",
    "routes = []\n",
    "\n",
    "for function in functions:\n",
    "    route = await Route.from_dynamic_route(entity=function)\n",
    "    routes.append(route)\n",
    "\n",
    "route_config = RouteConfig(routes=routes)"
   ]
  },
  {
   "cell_type": "code",
   "execution_count": 7,
   "metadata": {},
   "outputs": [
    {
     "name": "stderr",
     "output_type": "stream",
     "text": [
      "\u001b[32m2023-12-19 17:46:43 INFO semantic_router.utils.logger Added route `get_weather`\u001b[0m\n",
      "\u001b[32m2023-12-19 17:46:43 INFO semantic_router.utils.logger Removed route `get_weather`\u001b[0m\n"
     ]
    },
    {
     "data": {
      "text/plain": [
       "[{'name': 'get_time',\n",
       "  'utterances': [\"What's the time in New York?\",\n",
       "   'Can you tell me the time in Tokyo?',\n",
       "   \"What's the current time in London?\",\n",
       "   'Can you give me the time in Sydney?',\n",
       "   \"What's the time in Paris?\"],\n",
       "  'description': None},\n",
       " {'name': 'get_news',\n",
       "  'utterances': ['Tell me the latest news from the United States',\n",
       "   \"What's happening in India today?\",\n",
       "   'Can you give me the top stories from Japan',\n",
       "   'Get me the breaking news from the UK',\n",
       "   \"What's the latest in Germany?\"],\n",
       "  'description': None}]"
      ]
     },
     "execution_count": 7,
     "metadata": {},
     "output_type": "execute_result"
    }
   ],
   "source": [
    "# You can manually add or remove routes\n",
    "\n",
    "get_weather_route = Route(\n",
    "    name=\"get_weather\",\n",
    "    utterances=[\n",
    "        \"what is the weather in SF\",\n",
    "        \"what is the current temperature in London?\",\n",
    "        \"tomorrow's weather in Paris?\",\n",
    "    ],\n",
    ")\n",
    "route_config.add(get_weather_route)\n",
    "\n",
    "route_config.remove(\"get_weather\")\n",
    "\n",
    "route_config.to_dict()"
   ]
  },
  {
   "cell_type": "code",
   "execution_count": 8,
   "metadata": {},
   "outputs": [
    {
     "data": {
      "text/plain": [
       "Route(name='get_time', utterances=[\"What's the time in New York?\", 'Can you tell me the time in Tokyo?', \"What's the current time in London?\", 'Can you give me the time in Sydney?', \"What's the time in Paris?\"], description=None)"
      ]
     },
     "execution_count": 8,
     "metadata": {},
     "output_type": "execute_result"
    }
   ],
   "source": [
    "# Get a route by name\n",
    "route_config.get(\"get_time\")"
   ]
  },
  {
   "cell_type": "markdown",
   "metadata": {},
   "source": [
    "Save config to a file (.json or .yaml)"
   ]
  },
  {
   "cell_type": "code",
   "execution_count": 9,
   "metadata": {},
   "outputs": [
    {
     "name": "stderr",
     "output_type": "stream",
     "text": [
      "\u001b[32m2023-12-19 17:46:43 INFO semantic_router.utils.logger Saving route config to route_config.json\u001b[0m\n"
     ]
    }
   ],
   "source": [
    "route_config.to_file(\"route_config.json\")"
   ]
  },
  {
   "cell_type": "markdown",
   "metadata": {},
   "source": [
    "### Define routing layer"
   ]
  },
  {
   "cell_type": "markdown",
   "metadata": {},
   "source": [
    "Load from local file"
   ]
  },
  {
   "cell_type": "code",
   "execution_count": 10,
   "metadata": {},
   "outputs": [
    {
     "name": "stderr",
     "output_type": "stream",
     "text": [
      "\u001b[32m2023-12-19 17:46:43 INFO semantic_router.utils.logger Loading route config from route_config.json\u001b[0m\n"
     ]
    }
   ],
   "source": [
    "from semantic_router.route import RouteConfig\n",
    "\n",
    "route_config = RouteConfig.from_file(\"route_config.json\")"
   ]
  },
  {
   "cell_type": "code",
   "execution_count": 11,
   "metadata": {},
   "outputs": [],
   "source": [
    "from semantic_router import RouteLayer\n",
    "\n",
    "route_layer = RouteLayer(routes=route_config.routes)"
   ]
  },
  {
   "cell_type": "markdown",
   "metadata": {},
   "source": [
    "Do a function call with functions as tool"
   ]
  },
  {
   "cell_type": "code",
   "execution_count": 12,
   "metadata": {},
   "outputs": [
    {
     "name": "stderr",
     "output_type": "stream",
     "text": [
      "\u001b[32m2023-12-19 17:46:43 INFO semantic_router.utils.logger Extracting function input...\u001b[0m\n"
     ]
    },
    {
     "name": "stdout",
     "output_type": "stream",
     "text": [
      "Calling function: get_time\n",
      "Result from: `get_time` function with location: `Stockholm`\n"
     ]
    },
    {
     "name": "stderr",
     "output_type": "stream",
     "text": [
      "\u001b[32m2023-12-19 17:46:49 INFO semantic_router.utils.logger Extracting function input...\u001b[0m\n"
     ]
    },
    {
     "name": "stdout",
     "output_type": "stream",
     "text": [
      "Calling function: get_news\n",
      "Result from: `get_news` function with category: `tech` and country: `Lithuania`\n"
     ]
    },
    {
     "name": "stderr",
     "output_type": "stream",
     "text": [
      "\u001b[33m2023-12-19 17:46:52 WARNING semantic_router.utils.logger No function found, calling LLM...\u001b[0m\n"
     ]
    },
    {
     "data": {
      "text/plain": [
       "'Hello! How can I assist you today?'"
      ]
     },
     "execution_count": 12,
     "metadata": {},
     "output_type": "execute_result"
    }
   ],
   "source": [
    "from semantic_router.utils.function_call import route_and_execute\n",
    "\n",
    "tools = [get_time, get_news]\n",
    "\n",
    "await route_and_execute(\n",
    "    query=\"What is the time in Stockholm?\", functions=tools, route_layer=route_layer\n",
    ")\n",
    "await route_and_execute(\n",
    "    query=\"What is the tech news in the Lithuania?\",\n",
    "    functions=tools,\n",
    "    route_layer=route_layer,\n",
    ")\n",
    "await route_and_execute(query=\"Hi!\", functions=tools, route_layer=route_layer)"
   ]
  }
 ],
 "metadata": {
  "kernelspec": {
   "display_name": ".venv",
   "language": "python",
   "name": "python3"
  },
  "language_info": {
   "codemirror_mode": {
    "name": "ipython",
    "version": 3
   },
   "file_extension": ".py",
   "mimetype": "text/x-python",
   "name": "python",
   "nbconvert_exporter": "python",
   "pygments_lexer": "ipython3",
   "version": "3.11.3"
  }
 },
 "nbformat": 4,
 "nbformat_minor": 2
}
